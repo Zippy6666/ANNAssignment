{
 "cells": [
  {
   "cell_type": "code",
   "execution_count": 119,
   "metadata": {},
   "outputs": [],
   "source": [
    "# Imports\n",
    "import pandas as pd\n",
    "import numpy as np\n",
    "from sklearn.preprocessing import OneHotEncoder\n",
    "# from sklearn.metrics import accuracy_score, confusion_matrix\n",
    "# from matplotlib import pyplot as plt\n",
    "# from matplotlib.colors import LinearSegmentedColormap"
   ]
  },
  {
   "cell_type": "code",
   "execution_count": 120,
   "metadata": {},
   "outputs": [],
   "source": [
    "# Colors\n",
    "RED = \"\\033[91m\"\n",
    "GREEN = \"\\033[92m\"\n",
    "YELLOW = \"\\033[93m\"\n",
    "BLUE = \"\\033[94m\"\n",
    "END = \"\\033[0m\""
   ]
  },
  {
   "cell_type": "markdown",
   "metadata": {},
   "source": [
    "# Handle Data"
   ]
  },
  {
   "cell_type": "code",
   "execution_count": 121,
   "metadata": {},
   "outputs": [],
   "source": [
    "# Load data into dataframes\n",
    "train_df, test_df = pd.read_csv(\"churn_train_2.csv\"), pd.read_csv(\"churn_test_2.csv\")"
   ]
  },
  {
   "cell_type": "code",
   "execution_count": 122,
   "metadata": {},
   "outputs": [],
   "source": [
    "def data_overview(data:pd.DataFrame, show_churners:bool=False) -> None:\n",
    "    \"\"\" Training data overview \"\"\"\n",
    "    datapoints_n = len(data)\n",
    "    duplicates_n = data.duplicated().sum()\n",
    "    missing_n = data.isna().sum().sum()\n",
    "    print(\"------------------------------------------------------------------------------------\")\n",
    "    print(\"Datapoints: \", datapoints_n)\n",
    "    print(\"Duplicates: \", duplicates_n)\n",
    "    print(\"Missing: \", missing_n)\n",
    "    print(\"------------------------------------------------------------------------------------\")\n",
    "    print( data.head() )\n",
    "    print(\"------------------------------------------------------------------------------------\")\n",
    "    if show_churners:\n",
    "        churn_val_count = data[\"Churn\"].value_counts()\n",
    "        churn = churn_val_count[\"Yes\"]\n",
    "        nochurn = churn_val_count[\"No\"]\n",
    "        print( f\"Target distribution: {churn} churned, {nochurn} didn't.\" )\n",
    "        print(\"------------------------------------------------------------------------------------\")"
   ]
  },
  {
   "cell_type": "code",
   "execution_count": 123,
   "metadata": {},
   "outputs": [
    {
     "name": "stdout",
     "output_type": "stream",
     "text": [
      "\u001b[93mVV TRAIN DATA VV\n",
      "------------------------------------------------------------------------------------\n",
      "Datapoints:  5634\n",
      "Duplicates:  0\n",
      "Missing:  0\n",
      "------------------------------------------------------------------------------------\n",
      "   customerID  gender  SeniorCitizen Partner Dependents  tenure PhoneService  \\\n",
      "0  1768-ZAIFU  Female              1      No         No       1           No   \n",
      "1  2159-TURXX    Male              0      No         No       5          Yes   \n",
      "2  8261-GWDBQ  Female              1     Yes         No      60          Yes   \n",
      "3  2732-ISEZX  Female              0      No         No       5          Yes   \n",
      "4  7607-QKKTJ    Male              0     Yes        Yes      45          Yes   \n",
      "\n",
      "      MultipleLines InternetService       OnlineSecurity  ...  \\\n",
      "0  No phone service             DSL                   No  ...   \n",
      "1                No              No  No internet service  ...   \n",
      "2               Yes     Fiber optic                  Yes  ...   \n",
      "3                No              No  No internet service  ...   \n",
      "4               Yes     Fiber optic                   No  ...   \n",
      "\n",
      "      DeviceProtection          TechSupport          StreamingTV  \\\n",
      "0                   No                   No                   No   \n",
      "1  No internet service  No internet service  No internet service   \n",
      "2                  Yes                  Yes                  Yes   \n",
      "3  No internet service  No internet service  No internet service   \n",
      "4                  Yes                   No                   No   \n",
      "\n",
      "       StreamingMovies        Contract PaperlessBilling  \\\n",
      "0                   No  Month-to-month              Yes   \n",
      "1  No internet service  Month-to-month               No   \n",
      "2                  Yes        Two year              Yes   \n",
      "3  No internet service  Month-to-month              Yes   \n",
      "4                  Yes        One year              Yes   \n",
      "\n",
      "               PaymentMethod MonthlyCharges  TotalCharges Churn  \n",
      "0           Electronic check          25.20          25.2   Yes  \n",
      "1    Credit card (automatic)          20.05         95.55    No  \n",
      "2  Bank transfer (automatic)         116.05        6925.9    No  \n",
      "3               Mailed check          20.50         104.3    No  \n",
      "4    Credit card (automatic)          95.00       4368.85    No  \n",
      "\n",
      "[5 rows x 21 columns]\n",
      "------------------------------------------------------------------------------------\n",
      "Target distribution: 1486 churned, 4148 didn't.\n",
      "------------------------------------------------------------------------------------\n",
      "\u001b[0m\n",
      "\u001b[92mVV TEST DATA VV\n",
      "------------------------------------------------------------------------------------\n",
      "Datapoints:  1409\n",
      "Duplicates:  0\n",
      "Missing:  0\n",
      "------------------------------------------------------------------------------------\n",
      "   customerID  gender  SeniorCitizen Partner Dependents  tenure PhoneService  \\\n",
      "0  9505-SQFSW  Female              0     Yes        Yes       3           No   \n",
      "1  1723-HKXJQ    Male              0      No         No      42          Yes   \n",
      "2  9154-QDGTH    Male              0     Yes        Yes      43          Yes   \n",
      "3  8309-IEYJD  Female              1      No         No       1          Yes   \n",
      "4  8775-CEBBJ  Female              0      No         No       9          Yes   \n",
      "\n",
      "      MultipleLines InternetService OnlineSecurity  ... DeviceProtection  \\\n",
      "0  No phone service             DSL             No  ...               No   \n",
      "1               Yes     Fiber optic             No  ...               No   \n",
      "2               Yes     Fiber optic             No  ...              Yes   \n",
      "3                No     Fiber optic             No  ...               No   \n",
      "4                No             DSL             No  ...               No   \n",
      "\n",
      "  TechSupport StreamingTV StreamingMovies        Contract PaperlessBilling  \\\n",
      "0          No          No             Yes  Month-to-month               No   \n",
      "1          No         Yes             Yes  Month-to-month              Yes   \n",
      "2         Yes         Yes             Yes        One year              Yes   \n",
      "3          No          No              No  Month-to-month              Yes   \n",
      "4          No          No              No  Month-to-month              Yes   \n",
      "\n",
      "               PaymentMethod MonthlyCharges  TotalCharges Churn  \n",
      "0               Mailed check          40.30          92.5    No  \n",
      "1           Electronic check         101.75       4273.45   Yes  \n",
      "2    Credit card (automatic)         104.30       4451.85    No  \n",
      "3               Mailed check          70.60          70.6    No  \n",
      "4  Bank transfer (automatic)          44.20        403.35   Yes  \n",
      "\n",
      "[5 rows x 21 columns]\n",
      "------------------------------------------------------------------------------------\n",
      "Target distribution: 383 churned, 1026 didn't.\n",
      "------------------------------------------------------------------------------------\n",
      "\u001b[0m\n"
     ]
    }
   ],
   "source": [
    "print(YELLOW+\"VV TRAIN DATA VV\")\n",
    "data_overview(train_df, True)\n",
    "print(END)\n",
    "print(GREEN+\"VV TEST DATA VV\")\n",
    "data_overview(test_df, True)\n",
    "print(END)"
   ]
  },
  {
   "cell_type": "markdown",
   "metadata": {},
   "source": [
    "The data features strings as opposed to numbers for many columns. Customer ID is redundant and will be removed."
   ]
  },
  {
   "cell_type": "code",
   "execution_count": 124,
   "metadata": {},
   "outputs": [],
   "source": [
    "train_final = train_df.copy() # New refined train set\n",
    "test_final = test_df.copy() # New refined test set\n",
    "\n",
    "# Drop ID columns\n",
    "train_final.drop(columns=\"customerID\", inplace=True)\n",
    "test_final.drop(columns=\"customerID\", inplace=True)"
   ]
  },
  {
   "cell_type": "code",
   "execution_count": 125,
   "metadata": {},
   "outputs": [],
   "source": [
    "# Define a function that turns all string values for a dataframe into nominal data\n",
    "# This is ideal for ANN and the kind of data we are working with\n",
    "def str_to_nominal(data:pd.DataFrame) -> pd.DataFrame:\n",
    "    \"\"\" Turn all string values for the dataframe into nominal data \"\"\"\n",
    "    # Initialize the OneHotEncoder\n",
    "    onehot_encoder = OneHotEncoder(sparse=False, drop='first')  # drop='first' to avoid multicollinearity\n",
    "\n",
    "    # Fit and transform the data\n",
    "    encoded_data = onehot_encoder.fit_transform(data)\n",
    "\n",
    "    # Create a DataFrame with the encoded data\n",
    "    encoded_df = pd.DataFrame( encoded_data, columns=onehot_encoder.get_feature_names_out(data.columns) )\n",
    "    return encoded_df"
   ]
  }
 ],
 "metadata": {
  "kernelspec": {
   "display_name": "Python 3 (ipykernel)",
   "language": "python",
   "name": "python3"
  },
  "language_info": {
   "codemirror_mode": {
    "name": "ipython",
    "version": 3
   },
   "file_extension": ".py",
   "mimetype": "text/x-python",
   "name": "python",
   "nbconvert_exporter": "python",
   "pygments_lexer": "ipython3",
   "version": "3.10.12"
  },
  "orig_nbformat": 4
 },
 "nbformat": 4,
 "nbformat_minor": 2
}
