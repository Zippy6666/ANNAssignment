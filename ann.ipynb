{
 "cells": [
  {
   "cell_type": "code",
   "execution_count": 20,
   "metadata": {},
   "outputs": [],
   "source": [
    "# Imports\n",
    "import pandas as pd\n",
    "import numpy as np\n",
    "from sklearn.preprocessing import OneHotEncoder, StandardScaler\n",
    "from sklearn.neural_network import MLPClassifier\n",
    "from sklearn.metrics import accuracy_score, confusion_matrix\n",
    "from typing import Any\n",
    "import time"
   ]
  },
  {
   "cell_type": "code",
   "execution_count": 21,
   "metadata": {},
   "outputs": [],
   "source": [
    "# Colors\n",
    "RED = \"\\033[91m\"\n",
    "GREEN = \"\\033[92m\"\n",
    "YELLOW = \"\\033[93m\"\n",
    "BLUE = \"\\033[94m\"\n",
    "END = \"\\033[0m\""
   ]
  },
  {
   "cell_type": "markdown",
   "metadata": {},
   "source": [
    "# Data Analysis"
   ]
  },
  {
   "cell_type": "code",
   "execution_count": 22,
   "metadata": {},
   "outputs": [],
   "source": [
    "# Load data into dataframes\n",
    "train_df, test_df = pd.read_csv(\"churn_train_2.csv\"), pd.read_csv(\"churn_test_2.csv\")"
   ]
  },
  {
   "cell_type": "code",
   "execution_count": 23,
   "metadata": {},
   "outputs": [],
   "source": [
    "def data_overview(data:pd.DataFrame, show_churners:bool=False, head:bool=True) -> None:\n",
    "    \"\"\" Training data overview \"\"\"\n",
    "    datapoints_n = len(data)\n",
    "    duplicates_n = data.duplicated().sum()\n",
    "    missing_n = data.isna().sum().sum()\n",
    "    \n",
    "    print(\"------------------------------------------------------------------------------------\")\n",
    "    print(\"Datapoints: \", datapoints_n)\n",
    "    print(\"Duplicates: \", duplicates_n)\n",
    "    print(\"Missing: \", missing_n)\n",
    "\n",
    "    if head:\n",
    "        print(\"------------------------------------------------------------------------------------\")\n",
    "        print( data.head() )\n",
    "\n",
    "    print(\"------------------------------------------------------------------------------------\")\n",
    "    print( data.info() )\n",
    "    print(\"------------------------------------------------------------------------------------\")\n",
    "\n",
    "    if show_churners:\n",
    "        churn_val_count = data[\"Churn\"].value_counts()\n",
    "        churn = churn_val_count[\"Yes\"]\n",
    "        nochurn = churn_val_count[\"No\"]\n",
    "        print( f\"Target distribution: {churn} churned, {nochurn} didn't.\" )\n",
    "    "
   ]
  },
  {
   "cell_type": "code",
   "execution_count": 24,
   "metadata": {},
   "outputs": [
    {
     "name": "stdout",
     "output_type": "stream",
     "text": [
      "\u001b[93mVV TRAIN DATA VV\n",
      "------------------------------------------------------------------------------------\n",
      "Datapoints:  5634\n",
      "Duplicates:  0\n",
      "Missing:  0\n",
      "------------------------------------------------------------------------------------\n",
      "   customerID  gender  SeniorCitizen Partner Dependents  tenure PhoneService  \\\n",
      "0  1768-ZAIFU  Female              1      No         No       1           No   \n",
      "1  2159-TURXX    Male              0      No         No       5          Yes   \n",
      "2  8261-GWDBQ  Female              1     Yes         No      60          Yes   \n",
      "3  2732-ISEZX  Female              0      No         No       5          Yes   \n",
      "4  7607-QKKTJ    Male              0     Yes        Yes      45          Yes   \n",
      "\n",
      "      MultipleLines InternetService       OnlineSecurity  ...  \\\n",
      "0  No phone service             DSL                   No  ...   \n",
      "1                No              No  No internet service  ...   \n",
      "2               Yes     Fiber optic                  Yes  ...   \n",
      "3                No              No  No internet service  ...   \n",
      "4               Yes     Fiber optic                   No  ...   \n",
      "\n",
      "      DeviceProtection          TechSupport          StreamingTV  \\\n",
      "0                   No                   No                   No   \n",
      "1  No internet service  No internet service  No internet service   \n",
      "2                  Yes                  Yes                  Yes   \n",
      "3  No internet service  No internet service  No internet service   \n",
      "4                  Yes                   No                   No   \n",
      "\n",
      "       StreamingMovies        Contract PaperlessBilling  \\\n",
      "0                   No  Month-to-month              Yes   \n",
      "1  No internet service  Month-to-month               No   \n",
      "2                  Yes        Two year              Yes   \n",
      "3  No internet service  Month-to-month              Yes   \n",
      "4                  Yes        One year              Yes   \n",
      "\n",
      "               PaymentMethod MonthlyCharges  TotalCharges Churn  \n",
      "0           Electronic check          25.20          25.2   Yes  \n",
      "1    Credit card (automatic)          20.05         95.55    No  \n",
      "2  Bank transfer (automatic)         116.05        6925.9    No  \n",
      "3               Mailed check          20.50         104.3    No  \n",
      "4    Credit card (automatic)          95.00       4368.85    No  \n",
      "\n",
      "[5 rows x 21 columns]\n",
      "------------------------------------------------------------------------------------\n",
      "<class 'pandas.core.frame.DataFrame'>\n",
      "RangeIndex: 5634 entries, 0 to 5633\n",
      "Data columns (total 21 columns):\n",
      " #   Column            Non-Null Count  Dtype  \n",
      "---  ------            --------------  -----  \n",
      " 0   customerID        5634 non-null   object \n",
      " 1   gender            5634 non-null   object \n",
      " 2   SeniorCitizen     5634 non-null   int64  \n",
      " 3   Partner           5634 non-null   object \n",
      " 4   Dependents        5634 non-null   object \n",
      " 5   tenure            5634 non-null   int64  \n",
      " 6   PhoneService      5634 non-null   object \n",
      " 7   MultipleLines     5634 non-null   object \n",
      " 8   InternetService   5634 non-null   object \n",
      " 9   OnlineSecurity    5634 non-null   object \n",
      " 10  OnlineBackup      5634 non-null   object \n",
      " 11  DeviceProtection  5634 non-null   object \n",
      " 12  TechSupport       5634 non-null   object \n",
      " 13  StreamingTV       5634 non-null   object \n",
      " 14  StreamingMovies   5634 non-null   object \n",
      " 15  Contract          5634 non-null   object \n",
      " 16  PaperlessBilling  5634 non-null   object \n",
      " 17  PaymentMethod     5634 non-null   object \n",
      " 18  MonthlyCharges    5634 non-null   float64\n",
      " 19  TotalCharges      5634 non-null   object \n",
      " 20  Churn             5634 non-null   object \n",
      "dtypes: float64(1), int64(2), object(18)\n",
      "memory usage: 924.5+ KB\n",
      "None\n",
      "------------------------------------------------------------------------------------\n",
      "Target distribution: 1486 churned, 4148 didn't.\n",
      "\u001b[0m\n",
      "\u001b[92mVV TEST DATA VV\n",
      "------------------------------------------------------------------------------------\n",
      "Datapoints:  1409\n",
      "Duplicates:  0\n",
      "Missing:  0\n",
      "------------------------------------------------------------------------------------\n",
      "   customerID  gender  SeniorCitizen Partner Dependents  tenure PhoneService  \\\n",
      "0  9505-SQFSW  Female              0     Yes        Yes       3           No   \n",
      "1  1723-HKXJQ    Male              0      No         No      42          Yes   \n",
      "2  9154-QDGTH    Male              0     Yes        Yes      43          Yes   \n",
      "3  8309-IEYJD  Female              1      No         No       1          Yes   \n",
      "4  8775-CEBBJ  Female              0      No         No       9          Yes   \n",
      "\n",
      "      MultipleLines InternetService OnlineSecurity  ... DeviceProtection  \\\n",
      "0  No phone service             DSL             No  ...               No   \n",
      "1               Yes     Fiber optic             No  ...               No   \n",
      "2               Yes     Fiber optic             No  ...              Yes   \n",
      "3                No     Fiber optic             No  ...               No   \n",
      "4                No             DSL             No  ...               No   \n",
      "\n",
      "  TechSupport StreamingTV StreamingMovies        Contract PaperlessBilling  \\\n",
      "0          No          No             Yes  Month-to-month               No   \n",
      "1          No         Yes             Yes  Month-to-month              Yes   \n",
      "2         Yes         Yes             Yes        One year              Yes   \n",
      "3          No          No              No  Month-to-month              Yes   \n",
      "4          No          No              No  Month-to-month              Yes   \n",
      "\n",
      "               PaymentMethod MonthlyCharges  TotalCharges Churn  \n",
      "0               Mailed check          40.30          92.5    No  \n",
      "1           Electronic check         101.75       4273.45   Yes  \n",
      "2    Credit card (automatic)         104.30       4451.85    No  \n",
      "3               Mailed check          70.60          70.6    No  \n",
      "4  Bank transfer (automatic)          44.20        403.35   Yes  \n",
      "\n",
      "[5 rows x 21 columns]\n",
      "------------------------------------------------------------------------------------\n",
      "<class 'pandas.core.frame.DataFrame'>\n",
      "RangeIndex: 1409 entries, 0 to 1408\n",
      "Data columns (total 21 columns):\n",
      " #   Column            Non-Null Count  Dtype  \n",
      "---  ------            --------------  -----  \n",
      " 0   customerID        1409 non-null   object \n",
      " 1   gender            1409 non-null   object \n",
      " 2   SeniorCitizen     1409 non-null   int64  \n",
      " 3   Partner           1409 non-null   object \n",
      " 4   Dependents        1409 non-null   object \n",
      " 5   tenure            1409 non-null   int64  \n",
      " 6   PhoneService      1409 non-null   object \n",
      " 7   MultipleLines     1409 non-null   object \n",
      " 8   InternetService   1409 non-null   object \n",
      " 9   OnlineSecurity    1409 non-null   object \n",
      " 10  OnlineBackup      1409 non-null   object \n",
      " 11  DeviceProtection  1409 non-null   object \n",
      " 12  TechSupport       1409 non-null   object \n",
      " 13  StreamingTV       1409 non-null   object \n",
      " 14  StreamingMovies   1409 non-null   object \n",
      " 15  Contract          1409 non-null   object \n",
      " 16  PaperlessBilling  1409 non-null   object \n",
      " 17  PaymentMethod     1409 non-null   object \n",
      " 18  MonthlyCharges    1409 non-null   float64\n",
      " 19  TotalCharges      1409 non-null   object \n",
      " 20  Churn             1409 non-null   object \n",
      "dtypes: float64(1), int64(2), object(18)\n",
      "memory usage: 231.3+ KB\n",
      "None\n",
      "------------------------------------------------------------------------------------\n",
      "Target distribution: 383 churned, 1026 didn't.\n",
      "\u001b[0m\n"
     ]
    }
   ],
   "source": [
    "# Show data\n",
    "print(YELLOW+\"VV TRAIN DATA VV\")\n",
    "data_overview(train_df, True)\n",
    "print(END)\n",
    "print(GREEN+\"VV TEST DATA VV\")\n",
    "data_overview(test_df, True)\n",
    "print(END)"
   ]
  },
  {
   "cell_type": "markdown",
   "metadata": {},
   "source": [
    "The data features strings as opposed to numbers for many columns. Customer ID is redundant and will be removed."
   ]
  },
  {
   "cell_type": "markdown",
   "metadata": {},
   "source": [
    "# Preprocess the Data"
   ]
  },
  {
   "cell_type": "code",
   "execution_count": 25,
   "metadata": {},
   "outputs": [],
   "source": [
    "# Define a function that turns gets rid of all string values and uses nominal data instead\n",
    "# This is ideal for ANN and the kind of string data we are working with\n",
    "def str_to_nominal(data: pd.DataFrame) -> pd.DataFrame:\n",
    "    \"\"\"Turn all string values for the dataframe into nominal data\"\"\"\n",
    "\n",
    "    # Get all non-numeric columns\n",
    "    categorical_cols = data.select_dtypes(include=['object']).columns\n",
    "\n",
    "    # Drop first column so that we don't get \"multicollinearity\" by doing drop=\"first\"\n",
    "    # Otherwise we would end up with redundant columns\n",
    "    encoder = OneHotEncoder(sparse_output=False, drop=\"first\")\n",
    "    encoded_data = encoder.fit_transform(data[categorical_cols])\n",
    "\n",
    "    encoded_df = pd.DataFrame(encoded_data, columns=encoder.get_feature_names_out(categorical_cols))\n",
    "\n",
    "    # Combine the new encoded columns with number columns\n",
    "    number_cols = data.drop(columns=categorical_cols)\n",
    "    number_cols.reset_index(drop=True, inplace=True)\n",
    "    encoded_df.reset_index(drop=True, inplace=True)\n",
    "\n",
    "    result_df = pd.concat([number_cols, encoded_df], axis=1)\n",
    "\n",
    "    return result_df"
   ]
  },
  {
   "cell_type": "code",
   "execution_count": 26,
   "metadata": {},
   "outputs": [
    {
     "name": "stdout",
     "output_type": "stream",
     "text": [
      "\u001b[93mVV TRAIN DATA VV\n",
      "------------------------------------------------------------------------------------\n",
      "Datapoints:  5614\n",
      "Duplicates:  0\n",
      "Missing:  0\n",
      "------------------------------------------------------------------------------------\n",
      "<class 'pandas.core.frame.DataFrame'>\n",
      "Index: 5614 entries, 0 to 5633\n",
      "Data columns (total 31 columns):\n",
      " #   Column                                 Non-Null Count  Dtype  \n",
      "---  ------                                 --------------  -----  \n",
      " 0   SeniorCitizen                          5614 non-null   int64  \n",
      " 1   tenure                                 5614 non-null   int64  \n",
      " 2   MonthlyCharges                         5614 non-null   float64\n",
      " 3   TotalCharges                           5614 non-null   float64\n",
      " 4   gender_Male                            5614 non-null   float64\n",
      " 5   Partner_Yes                            5614 non-null   float64\n",
      " 6   Dependents_Yes                         5614 non-null   float64\n",
      " 7   PhoneService_Yes                       5614 non-null   float64\n",
      " 8   MultipleLines_No phone service         5614 non-null   float64\n",
      " 9   MultipleLines_Yes                      5614 non-null   float64\n",
      " 10  InternetService_Fiber optic            5614 non-null   float64\n",
      " 11  InternetService_No                     5614 non-null   float64\n",
      " 12  OnlineSecurity_No internet service     5614 non-null   float64\n",
      " 13  OnlineSecurity_Yes                     5614 non-null   float64\n",
      " 14  OnlineBackup_No internet service       5614 non-null   float64\n",
      " 15  OnlineBackup_Yes                       5614 non-null   float64\n",
      " 16  DeviceProtection_No internet service   5614 non-null   float64\n",
      " 17  DeviceProtection_Yes                   5614 non-null   float64\n",
      " 18  TechSupport_No internet service        5614 non-null   float64\n",
      " 19  TechSupport_Yes                        5614 non-null   float64\n",
      " 20  StreamingTV_No internet service        5614 non-null   float64\n",
      " 21  StreamingTV_Yes                        5614 non-null   float64\n",
      " 22  StreamingMovies_No internet service    5614 non-null   float64\n",
      " 23  StreamingMovies_Yes                    5614 non-null   float64\n",
      " 24  Contract_One year                      5614 non-null   float64\n",
      " 25  Contract_Two year                      5614 non-null   float64\n",
      " 26  PaperlessBilling_Yes                   5614 non-null   float64\n",
      " 27  PaymentMethod_Credit card (automatic)  5614 non-null   float64\n",
      " 28  PaymentMethod_Electronic check         5614 non-null   float64\n",
      " 29  PaymentMethod_Mailed check             5614 non-null   float64\n",
      " 30  Churn_Yes                              5614 non-null   float64\n",
      "dtypes: float64(29), int64(2)\n",
      "memory usage: 1.4 MB\n",
      "None\n",
      "------------------------------------------------------------------------------------\n",
      "\u001b[0m\n",
      "\u001b[92mVV TEST DATA VV\n",
      "------------------------------------------------------------------------------------\n",
      "Datapoints:  1404\n",
      "Duplicates:  0\n",
      "Missing:  0\n",
      "------------------------------------------------------------------------------------\n",
      "<class 'pandas.core.frame.DataFrame'>\n",
      "Index: 1404 entries, 0 to 1408\n",
      "Data columns (total 31 columns):\n",
      " #   Column                                 Non-Null Count  Dtype  \n",
      "---  ------                                 --------------  -----  \n",
      " 0   SeniorCitizen                          1404 non-null   int64  \n",
      " 1   tenure                                 1404 non-null   int64  \n",
      " 2   MonthlyCharges                         1404 non-null   float64\n",
      " 3   TotalCharges                           1404 non-null   float64\n",
      " 4   gender_Male                            1404 non-null   float64\n",
      " 5   Partner_Yes                            1404 non-null   float64\n",
      " 6   Dependents_Yes                         1404 non-null   float64\n",
      " 7   PhoneService_Yes                       1404 non-null   float64\n",
      " 8   MultipleLines_No phone service         1404 non-null   float64\n",
      " 9   MultipleLines_Yes                      1404 non-null   float64\n",
      " 10  InternetService_Fiber optic            1404 non-null   float64\n",
      " 11  InternetService_No                     1404 non-null   float64\n",
      " 12  OnlineSecurity_No internet service     1404 non-null   float64\n",
      " 13  OnlineSecurity_Yes                     1404 non-null   float64\n",
      " 14  OnlineBackup_No internet service       1404 non-null   float64\n",
      " 15  OnlineBackup_Yes                       1404 non-null   float64\n",
      " 16  DeviceProtection_No internet service   1404 non-null   float64\n",
      " 17  DeviceProtection_Yes                   1404 non-null   float64\n",
      " 18  TechSupport_No internet service        1404 non-null   float64\n",
      " 19  TechSupport_Yes                        1404 non-null   float64\n",
      " 20  StreamingTV_No internet service        1404 non-null   float64\n",
      " 21  StreamingTV_Yes                        1404 non-null   float64\n",
      " 22  StreamingMovies_No internet service    1404 non-null   float64\n",
      " 23  StreamingMovies_Yes                    1404 non-null   float64\n",
      " 24  Contract_One year                      1404 non-null   float64\n",
      " 25  Contract_Two year                      1404 non-null   float64\n",
      " 26  PaperlessBilling_Yes                   1404 non-null   float64\n",
      " 27  PaymentMethod_Credit card (automatic)  1404 non-null   float64\n",
      " 28  PaymentMethod_Electronic check         1404 non-null   float64\n",
      " 29  PaymentMethod_Mailed check             1404 non-null   float64\n",
      " 30  Churn_Yes                              1404 non-null   float64\n",
      "dtypes: float64(29), int64(2)\n",
      "memory usage: 351.0 KB\n",
      "None\n",
      "------------------------------------------------------------------------------------\n",
      "\u001b[0m\n"
     ]
    }
   ],
   "source": [
    "# New refined train and test sets\n",
    "train_final = train_df.copy()\n",
    "test_final = test_df.copy()\n",
    "\n",
    "# Drop ID columns\n",
    "train_final.drop(columns=\"customerID\", inplace=True)\n",
    "test_final.drop(columns=\"customerID\", inplace=True)\n",
    "\n",
    "# Convert TotalCharges to numbers, it is strings for some reason...\n",
    "# We also set errors=\"coerce\" so that strings that couldn't convert turn into NaN\n",
    "train_final[\"TotalCharges\"] = pd.to_numeric(train_final['TotalCharges'], errors='coerce')\n",
    "test_final[\"TotalCharges\"] = pd.to_numeric(test_final['TotalCharges'], errors='coerce')\n",
    "\n",
    "# Convert string values for our dataframes\n",
    "train_final = str_to_nominal(train_final)\n",
    "test_final = str_to_nominal(test_final)\n",
    "\n",
    "# Drop duplicates and NaN values\n",
    "train_final.drop_duplicates(inplace=True)\n",
    "train_final.dropna(inplace=True)\n",
    "test_final.drop_duplicates(inplace=True)\n",
    "test_final.dropna(inplace=True)\n",
    "\n",
    "# Show data again\n",
    "print(YELLOW+\"VV TRAIN DATA VV\")\n",
    "data_overview(train_final, head=False)\n",
    "print(END)\n",
    "print(GREEN+\"VV TEST DATA VV\")\n",
    "data_overview(test_final, head=False)\n",
    "print(END)"
   ]
  },
  {
   "cell_type": "markdown",
   "metadata": {},
   "source": [
    "This will fit our ANN."
   ]
  },
  {
   "cell_type": "markdown",
   "metadata": {},
   "source": [
    "# ANN Training\n",
    "We'll use scikit-learn's multi-layer perceptron (MLP) which is a feedforward neural network (FFNN). It is the fastest and simplest solution for the kind of simple data we are working with."
   ]
  },
  {
   "cell_type": "code",
   "execution_count": 48,
   "metadata": {},
   "outputs": [],
   "source": [
    "def train_and_eval_ann(hlayers:int, neurons:int, lrate:float, **extra_params:dict[str:Any]) -> None:\n",
    "    # Standardize our data, this is usually prefered when training ANN as opposed to normalizing\n",
    "    scaler = StandardScaler()\n",
    "    X_train, y_train = train_final.drop(columns=[\"Churn_Yes\"]), train_final[\"Churn_Yes\"]\n",
    "    X_test, y_test = test_final.drop(columns=[\"Churn_Yes\"]), test_final[\"Churn_Yes\"]\n",
    "    X_train_scaled:np.ndarray = scaler.fit_transform( X_train )\n",
    "    X_test_scaled:np.ndarray = scaler.transform( X_test )\n",
    "\n",
    "    # Initialize the FFNN classifier\n",
    "    hlayer_sizes = tuple(neurons for _ in range(hlayers))\n",
    "    mpl = MLPClassifier(hidden_layer_sizes=hlayer_sizes, random_state=42, learning_rate_init=lrate, **extra_params)\n",
    "\n",
    "    # Train the classifier\n",
    "    start_time = time.time()\n",
    "    mpl.fit(X_train_scaled, y_train)\n",
    "    end_time = time.time()\n",
    "    train_elapsed = end_time - start_time\n",
    "    \n",
    "\n",
    "    print(f\"{BLUE}>> {hlayers} HIDDEN LAYERS WITH {neurons} NEURONS ({lrate} LEARNING RATE) <<{END}\")\n",
    "\n",
    "    y_pred = mpl.predict(X_test_scaled)\n",
    "\n",
    "    # Evaluate with acccuracy score\n",
    "    accuracy = accuracy_score(y_test, y_pred)\n",
    "    print(GREEN+\"Accuracy:\", accuracy, END)\n",
    "\n",
    "    # Evaluate train time\n",
    "    print(YELLOW+\"Train time: \", train_elapsed, END)\n",
    "\n",
    "    # Evaluate with confusion matrix\n",
    "    cm = confusion_matrix(y_test, y_pred)\n",
    "    print(f\"{RED}{cm}{END}\")"
   ]
  },
  {
   "cell_type": "code",
   "execution_count": 28,
   "metadata": {},
   "outputs": [
    {
     "name": "stdout",
     "output_type": "stream",
     "text": [
      "\u001b[94m>> 4 HIDDEN LAYERS WITH 5 NEURONS (0.01 LEARNING RATE) <<\u001b[0m\n",
      "\u001b[92mAccuracy: 0.7934472934472935 \u001b[0m\n",
      "\u001b[93mTrain time:  0.587498664855957 \u001b[0m\n",
      "\u001b[91m[[903 119]\n",
      " [171 211]]\u001b[0m\n",
      "\u001b[94m>> 2 HIDDEN LAYERS WITH 100 NEURONS (0.01 LEARNING RATE) <<\u001b[0m\n",
      "\u001b[92mAccuracy: 0.7535612535612536 \u001b[0m\n",
      "\u001b[93mTrain time:  4.533908367156982 \u001b[0m\n",
      "\u001b[91m[[895 127]\n",
      " [219 163]]\u001b[0m\n",
      "\u001b[94m>> 10 HIDDEN LAYERS WITH 100 NEURONS (0.01 LEARNING RATE) <<\u001b[0m\n",
      "\u001b[92mAccuracy: 0.7621082621082621 \u001b[0m\n",
      "\u001b[93mTrain time:  35.09653329849243 \u001b[0m\n",
      "\u001b[91m[[876 146]\n",
      " [188 194]]\u001b[0m\n"
     ]
    },
    {
     "name": "stderr",
     "output_type": "stream",
     "text": [
      "/home/zippy/Documents/python/jenv/lib/python3.10/site-packages/sklearn/neural_network/_multilayer_perceptron.py:690: ConvergenceWarning: Stochastic Optimizer: Maximum iterations (200) reached and the optimization hasn't converged yet.\n",
      "  warnings.warn(\n"
     ]
    },
    {
     "name": "stdout",
     "output_type": "stream",
     "text": [
      "\u001b[94m>> 2 HIDDEN LAYERS WITH 100 NEURONS (0.0001 LEARNING RATE) <<\u001b[0m\n",
      "\u001b[92mAccuracy: 0.7870370370370371 \u001b[0m\n",
      "\u001b[93mTrain time:  12.342050313949585 \u001b[0m\n",
      "\u001b[91m[[891 131]\n",
      " [168 214]]\u001b[0m\n",
      "\u001b[94m>> 2 HIDDEN LAYERS WITH 100 NEURONS (1e-05 LEARNING RATE) <<\u001b[0m\n",
      "\u001b[92mAccuracy: 0.7970085470085471 \u001b[0m\n",
      "\u001b[93mTrain time:  15.78143048286438 \u001b[0m\n",
      "\u001b[91m[[906 116]\n",
      " [169 213]]\u001b[0m\n"
     ]
    },
    {
     "name": "stderr",
     "output_type": "stream",
     "text": [
      "/home/zippy/Documents/python/jenv/lib/python3.10/site-packages/sklearn/neural_network/_multilayer_perceptron.py:690: ConvergenceWarning: Stochastic Optimizer: Maximum iterations (200) reached and the optimization hasn't converged yet.\n",
      "  warnings.warn(\n"
     ]
    }
   ],
   "source": [
    "train_and_eval_ann(4, 5, 0.01)\n",
    "train_and_eval_ann(2, 100, 0.01)\n",
    "train_and_eval_ann(10, 100, 0.01)\n",
    "train_and_eval_ann(2, 100, 0.0001)\n",
    "train_and_eval_ann(2, 100, 0.00001)"
   ]
  },
  {
   "cell_type": "markdown",
   "metadata": {},
   "source": [
    "There are slight variation in accuracy with the different parameters, and the mistakes the models make vary. The most time consuming model was also the one that gave the worst score... Some models reached their maximum iterations before convergence. The last model did so, but still won the contest in highest accuracy, interestingly enough."
   ]
  },
  {
   "cell_type": "code",
   "execution_count": 29,
   "metadata": {},
   "outputs": [
    {
     "name": "stdout",
     "output_type": "stream",
     "text": [
      "\u001b[94m>> 2 HIDDEN LAYERS WITH 100 NEURONS (1e-05 LEARNING RATE) <<\u001b[0m\n",
      "\u001b[92mAccuracy: 0.7948717948717948 \u001b[0m\n",
      "\u001b[93mTrain time:  16.019712448120117 \u001b[0m\n",
      "\u001b[91m[[904 118]\n",
      " [170 212]]\u001b[0m\n"
     ]
    }
   ],
   "source": [
    "# Let's try evaulating with the winning parameters, except we let it actually converge\n",
    "# Just out of curiousity\n",
    "train_and_eval_ann(2, 100, 0.00001, max_iter=400)"
   ]
  },
  {
   "cell_type": "markdown",
   "metadata": {},
   "source": [
    "Performs a bit worse..."
   ]
  },
  {
   "cell_type": "code",
   "execution_count": 47,
   "metadata": {},
   "outputs": [
    {
     "name": "stdout",
     "output_type": "stream",
     "text": [
      "\u001b[94m>> 4 HIDDEN LAYERS WITH 5 NEURONS (0.13 LEARNING RATE) <<\u001b[0m\n",
      "\u001b[92mAccuracy: 0.8012820512820513 \u001b[0m\n",
      "\u001b[93mTrain time:  0.3999309539794922 \u001b[0m\n",
      "\u001b[91m[[931  91]\n",
      " [188 194]]\u001b[0m\n"
     ]
    }
   ],
   "source": [
    "# 4 Hidden layers with 5 neurons performed best, let's start with that\n",
    "# Lets try a different learning rate\n",
    "train_and_eval_ann(4, 5, 0.13)"
   ]
  },
  {
   "cell_type": "markdown",
   "metadata": {},
   "source": [
    "I toyed around with a higher learning rate, and 0.13 seems to give a score above 80%"
   ]
  },
  {
   "cell_type": "code",
   "execution_count": 74,
   "metadata": {},
   "outputs": [
    {
     "name": "stdout",
     "output_type": "stream",
     "text": [
      "\u001b[94m>> 4 HIDDEN LAYERS WITH 5 NEURONS (0.13 LEARNING RATE) <<\u001b[0m\n",
      "\u001b[92mAccuracy: 0.7984330484330484 \u001b[0m\n",
      "\u001b[93mTrain time:  0.2757112979888916 \u001b[0m\n",
      "\u001b[91m[[934  88]\n",
      " [195 187]]\u001b[0m\n"
     ]
    }
   ],
   "source": [
    "# Let's tweak additional parameters\n",
    "train_and_eval_ann(4, 5, 0.13)"
   ]
  }
 ],
 "metadata": {
  "kernelspec": {
   "display_name": "Python 3 (ipykernel)",
   "language": "python",
   "name": "python3"
  },
  "language_info": {
   "codemirror_mode": {
    "name": "ipython",
    "version": 3
   },
   "file_extension": ".py",
   "mimetype": "text/x-python",
   "name": "python",
   "nbconvert_exporter": "python",
   "pygments_lexer": "ipython3",
   "version": "3.10.12"
  },
  "orig_nbformat": 4
 },
 "nbformat": 4,
 "nbformat_minor": 2
}
